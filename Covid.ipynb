{
  "nbformat": 4,
  "nbformat_minor": 0,
  "metadata": {
    "colab": {
      "name": "Covid.ipynb",
      "provenance": [],
      "authorship_tag": "ABX9TyOwHaaW0KDR3pndw+4kiuIn",
      "include_colab_link": true
    },
    "kernelspec": {
      "name": "python3",
      "display_name": "Python 3"
    },
    "accelerator": "GPU"
  },
  "cells": [
    {
      "cell_type": "markdown",
      "metadata": {
        "id": "view-in-github",
        "colab_type": "text"
      },
      "source": [
        "<a href=\"https://colab.research.google.com/github/luca-nassano/ChestXRAY/blob/master/Covid.ipynb\" target=\"_parent\"><img src=\"https://colab.research.google.com/assets/colab-badge.svg\" alt=\"Open In Colab\"/></a>"
      ]
    },
    {
      "cell_type": "code",
      "metadata": {
        "id": "_BBAE6mI2f3J",
        "colab_type": "code",
        "outputId": "e3ff855a-a7ad-46ff-a65f-f6b10c58add8",
        "colab": {
          "base_uri": "https://localhost:8080/",
          "height": 122
        }
      },
      "source": [
        "from google.colab import drive\n",
        "drive.mount('/content/drive',force_remount=True)"
      ],
      "execution_count": 1,
      "outputs": [
        {
          "output_type": "stream",
          "text": [
            "Go to this URL in a browser: https://accounts.google.com/o/oauth2/auth?client_id=947318989803-6bn6qk8qdgf4n4g3pfee6491hc0brc4i.apps.googleusercontent.com&redirect_uri=urn%3aietf%3awg%3aoauth%3a2.0%3aoob&response_type=code&scope=email%20https%3a%2f%2fwww.googleapis.com%2fauth%2fdocs.test%20https%3a%2f%2fwww.googleapis.com%2fauth%2fdrive%20https%3a%2f%2fwww.googleapis.com%2fauth%2fdrive.photos.readonly%20https%3a%2f%2fwww.googleapis.com%2fauth%2fpeopleapi.readonly\n",
            "\n",
            "Enter your authorization code:\n",
            "··········\n",
            "Mounted at /content/drive\n"
          ],
          "name": "stdout"
        }
      ]
    },
    {
      "cell_type": "code",
      "metadata": {
        "id": "0DuAF2_22j55",
        "colab_type": "code",
        "colab": {}
      },
      "source": [
        "try:\n",
        "  %tensorflow_version 2.x\n",
        "except Exception:\n",
        "  pass\n",
        "import tensorflow as tf \n",
        "import matplotlib.pyplot as plt\n",
        "import numpy as np\n",
        "import os\n",
        "import pandas as pd\n",
        "tf.random.set_seed(42)"
      ],
      "execution_count": 0,
      "outputs": []
    },
    {
      "cell_type": "code",
      "metadata": {
        "id": "OQlIf1dJ2uHV",
        "colab_type": "code",
        "colab": {}
      },
      "source": [
        "def parse(x):\n",
        "  return np.array(x.strip('][').split(', '),dtype=np.float32)\n",
        "  \n",
        "def build_dataset(df):\n",
        "  df['Embedding'] = df['Embedding'].apply(lambda x: parse(x))\n",
        "  values = df['Embedding'].values\n",
        "  X = np.array([el for el in values])\n",
        "  #Y = df[df.columns[1:-1]].values\n",
        "  return X"
      ],
      "execution_count": 0,
      "outputs": []
    },
    {
      "cell_type": "code",
      "metadata": {
        "id": "Z4bA-kbw2wW_",
        "colab_type": "code",
        "colab": {}
      },
      "source": [
        "df = pd.read_csv('/content/drive/My Drive/Embedding/DenseNet169/training_densenet169.csv')"
      ],
      "execution_count": 0,
      "outputs": []
    },
    {
      "cell_type": "code",
      "metadata": {
        "id": "asTd5QiR28Ke",
        "colab_type": "code",
        "colab": {}
      },
      "source": [
        "df_pneumonia = df[df['Pneumonia'] == 1][0:91]"
      ],
      "execution_count": 0,
      "outputs": []
    },
    {
      "cell_type": "code",
      "metadata": {
        "id": "XMtTyhXb3K3O",
        "colab_type": "code",
        "colab": {}
      },
      "source": [
        "df_pneumonia.to_csv('/content/drive/My Drive/Covid/df_pneumonia_densenet169.csv',index=False)"
      ],
      "execution_count": 0,
      "outputs": []
    },
    {
      "cell_type": "code",
      "metadata": {
        "id": "fO7hzYCG3bpq",
        "colab_type": "code",
        "colab": {}
      },
      "source": [
        "df_covid = pd.read_csv('/content/drive/My Drive/Covid/Embedding Covid/embedding_densenet169.csv')"
      ],
      "execution_count": 0,
      "outputs": []
    },
    {
      "cell_type": "code",
      "metadata": {
        "id": "tsCogXpA3cOJ",
        "colab_type": "code",
        "colab": {}
      },
      "source": [
        "df_covid = df_covid[df_covid['label'] == 'COVID-19']"
      ],
      "execution_count": 0,
      "outputs": []
    },
    {
      "cell_type": "code",
      "metadata": {
        "id": "6OIBgR3g6AsV",
        "colab_type": "code",
        "outputId": "40af8eb4-4787-4c25-8102-dfde3a0e5e4a",
        "colab": {
          "base_uri": "https://localhost:8080/",
          "height": 419
        }
      },
      "source": [
        "df_covid"
      ],
      "execution_count": 0,
      "outputs": [
        {
          "output_type": "execute_result",
          "data": {
            "text/html": [
              "<div>\n",
              "<style scoped>\n",
              "    .dataframe tbody tr th:only-of-type {\n",
              "        vertical-align: middle;\n",
              "    }\n",
              "\n",
              "    .dataframe tbody tr th {\n",
              "        vertical-align: top;\n",
              "    }\n",
              "\n",
              "    .dataframe thead th {\n",
              "        text-align: right;\n",
              "    }\n",
              "</style>\n",
              "<table border=\"1\" class=\"dataframe\">\n",
              "  <thead>\n",
              "    <tr style=\"text-align: right;\">\n",
              "      <th></th>\n",
              "      <th>filename</th>\n",
              "      <th>label</th>\n",
              "      <th>Embedding</th>\n",
              "    </tr>\n",
              "  </thead>\n",
              "  <tbody>\n",
              "    <tr>\n",
              "      <th>0</th>\n",
              "      <td>auntminnie-a-2020_01_28_23_51_6665_2020_01_28_...</td>\n",
              "      <td>COVID-19</td>\n",
              "      <td>[0.0, 0.005684979259967804, 0.0081745954230427...</td>\n",
              "    </tr>\n",
              "    <tr>\n",
              "      <th>1</th>\n",
              "      <td>auntminnie-b-2020_01_28_23_51_6665_2020_01_28_...</td>\n",
              "      <td>COVID-19</td>\n",
              "      <td>[0.0, 0.00876727793365717, 0.00902311783283948...</td>\n",
              "    </tr>\n",
              "    <tr>\n",
              "      <th>2</th>\n",
              "      <td>auntminnie-c-2020_01_28_23_51_6665_2020_01_28_...</td>\n",
              "      <td>COVID-19</td>\n",
              "      <td>[0.0, 0.009666219353675842, 0.0090331928804516...</td>\n",
              "    </tr>\n",
              "    <tr>\n",
              "      <th>3</th>\n",
              "      <td>auntminnie-d-2020_01_28_23_51_6665_2020_01_28_...</td>\n",
              "      <td>COVID-19</td>\n",
              "      <td>[0.0, 0.00852179154753685, 0.00743095343932509...</td>\n",
              "    </tr>\n",
              "    <tr>\n",
              "      <th>4</th>\n",
              "      <td>nejmc2001573_f1a.jpeg</td>\n",
              "      <td>COVID-19</td>\n",
              "      <td>[0.0, 0.0063009969890117645, 0.008990103378891...</td>\n",
              "    </tr>\n",
              "    <tr>\n",
              "      <th>...</th>\n",
              "      <td>...</td>\n",
              "      <td>...</td>\n",
              "      <td>...</td>\n",
              "    </tr>\n",
              "    <tr>\n",
              "      <th>109</th>\n",
              "      <td>5e6dd879fde9502400e58b2f.jpeg</td>\n",
              "      <td>COVID-19</td>\n",
              "      <td>[0.0, 0.007751211989670992, 0.0081331990659236...</td>\n",
              "    </tr>\n",
              "    <tr>\n",
              "      <th>110</th>\n",
              "      <td>covid-19-pneumonia-19.jpg</td>\n",
              "      <td>COVID-19</td>\n",
              "      <td>[0.0, 0.007427221164107323, 0.0074234288185834...</td>\n",
              "    </tr>\n",
              "    <tr>\n",
              "      <th>111</th>\n",
              "      <td>kjr-21-e25-g001-l-a.jpg</td>\n",
              "      <td>COVID-19</td>\n",
              "      <td>[0.0, 0.00553102744743228, 0.00783602520823478...</td>\n",
              "    </tr>\n",
              "    <tr>\n",
              "      <th>112</th>\n",
              "      <td>03BF7561-A9BA-4C3C-B8A0-D3E585F73F3C.jpeg</td>\n",
              "      <td>COVID-19</td>\n",
              "      <td>[0.0, 0.008056397549808025, 0.0078065521083772...</td>\n",
              "    </tr>\n",
              "    <tr>\n",
              "      <th>113</th>\n",
              "      <td>353889E0-A1E8-4F9E-A0B8-F24F36BCFBFB.jpeg</td>\n",
              "      <td>COVID-19</td>\n",
              "      <td>[0.0, 0.006775176152586937, 0.0058843791484832...</td>\n",
              "    </tr>\n",
              "  </tbody>\n",
              "</table>\n",
              "<p>91 rows × 3 columns</p>\n",
              "</div>"
            ],
            "text/plain": [
              "                                              filename  ...                                          Embedding\n",
              "0    auntminnie-a-2020_01_28_23_51_6665_2020_01_28_...  ...  [0.0, 0.005684979259967804, 0.0081745954230427...\n",
              "1    auntminnie-b-2020_01_28_23_51_6665_2020_01_28_...  ...  [0.0, 0.00876727793365717, 0.00902311783283948...\n",
              "2    auntminnie-c-2020_01_28_23_51_6665_2020_01_28_...  ...  [0.0, 0.009666219353675842, 0.0090331928804516...\n",
              "3    auntminnie-d-2020_01_28_23_51_6665_2020_01_28_...  ...  [0.0, 0.00852179154753685, 0.00743095343932509...\n",
              "4                                nejmc2001573_f1a.jpeg  ...  [0.0, 0.0063009969890117645, 0.008990103378891...\n",
              "..                                                 ...  ...                                                ...\n",
              "109                      5e6dd879fde9502400e58b2f.jpeg  ...  [0.0, 0.007751211989670992, 0.0081331990659236...\n",
              "110                          covid-19-pneumonia-19.jpg  ...  [0.0, 0.007427221164107323, 0.0074234288185834...\n",
              "111                            kjr-21-e25-g001-l-a.jpg  ...  [0.0, 0.00553102744743228, 0.00783602520823478...\n",
              "112          03BF7561-A9BA-4C3C-B8A0-D3E585F73F3C.jpeg  ...  [0.0, 0.008056397549808025, 0.0078065521083772...\n",
              "113          353889E0-A1E8-4F9E-A0B8-F24F36BCFBFB.jpeg  ...  [0.0, 0.006775176152586937, 0.0058843791484832...\n",
              "\n",
              "[91 rows x 3 columns]"
            ]
          },
          "metadata": {
            "tags": []
          },
          "execution_count": 70
        }
      ]
    },
    {
      "cell_type": "code",
      "metadata": {
        "id": "v3rW5RRC6LXm",
        "colab_type": "code",
        "colab": {}
      },
      "source": [
        "df_no_covid = pd.DataFrame({'filename' : df_pneumonia['Path'],\n",
        "                            'label': df_pneumonia['Pneumonia'],\n",
        "                            'Embedding': df_pneumonia['Embedding']})"
      ],
      "execution_count": 0,
      "outputs": []
    },
    {
      "cell_type": "code",
      "metadata": {
        "id": "7TofLELC6bek",
        "colab_type": "code",
        "outputId": "bc65784d-36dc-4b5e-a230-c3015c69c073",
        "colab": {
          "base_uri": "https://localhost:8080/",
          "height": 419
        }
      },
      "source": [
        "df_no_covid"
      ],
      "execution_count": 0,
      "outputs": [
        {
          "output_type": "execute_result",
          "data": {
            "text/html": [
              "<div>\n",
              "<style scoped>\n",
              "    .dataframe tbody tr th:only-of-type {\n",
              "        vertical-align: middle;\n",
              "    }\n",
              "\n",
              "    .dataframe tbody tr th {\n",
              "        vertical-align: top;\n",
              "    }\n",
              "\n",
              "    .dataframe thead th {\n",
              "        text-align: right;\n",
              "    }\n",
              "</style>\n",
              "<table border=\"1\" class=\"dataframe\">\n",
              "  <thead>\n",
              "    <tr style=\"text-align: right;\">\n",
              "      <th></th>\n",
              "      <th>filename</th>\n",
              "      <th>label</th>\n",
              "      <th>Embedding</th>\n",
              "    </tr>\n",
              "  </thead>\n",
              "  <tbody>\n",
              "    <tr>\n",
              "      <th>6</th>\n",
              "      <td>CheXpert-v1.0-small/train/patient06179/study2/...</td>\n",
              "      <td>1.0</td>\n",
              "      <td>[0.0, 0.008590316399931908, 0.0076303747482597...</td>\n",
              "    </tr>\n",
              "    <tr>\n",
              "      <th>25</th>\n",
              "      <td>CheXpert-v1.0-small/train/patient15810/study17...</td>\n",
              "      <td>1.0</td>\n",
              "      <td>[0.0, 0.00958317145705223, 0.00993316154927015...</td>\n",
              "    </tr>\n",
              "    <tr>\n",
              "      <th>87</th>\n",
              "      <td>CheXpert-v1.0-small/train/patient50077/study1/...</td>\n",
              "      <td>1.0</td>\n",
              "      <td>[0.0, 0.0065795197151601315, 0.008377856574952...</td>\n",
              "    </tr>\n",
              "    <tr>\n",
              "      <th>89</th>\n",
              "      <td>CheXpert-v1.0-small/train/patient09573/study3/...</td>\n",
              "      <td>1.0</td>\n",
              "      <td>[0.0, 0.006813548039644957, 0.0079320007935166...</td>\n",
              "    </tr>\n",
              "    <tr>\n",
              "      <th>257</th>\n",
              "      <td>CheXpert-v1.0-small/train/patient26588/study3/...</td>\n",
              "      <td>1.0</td>\n",
              "      <td>[0.0, 0.006036381237208843, 0.0078550139442086...</td>\n",
              "    </tr>\n",
              "    <tr>\n",
              "      <th>...</th>\n",
              "      <td>...</td>\n",
              "      <td>...</td>\n",
              "      <td>...</td>\n",
              "    </tr>\n",
              "    <tr>\n",
              "      <th>4006</th>\n",
              "      <td>CheXpert-v1.0-small/train/patient38528/study2/...</td>\n",
              "      <td>1.0</td>\n",
              "      <td>[0.0, 0.009525722824037075, 0.0109352394938468...</td>\n",
              "    </tr>\n",
              "    <tr>\n",
              "      <th>4021</th>\n",
              "      <td>CheXpert-v1.0-small/train/patient18874/study1/...</td>\n",
              "      <td>1.0</td>\n",
              "      <td>[0.0, 0.008962917141616344, 0.0088569009676575...</td>\n",
              "    </tr>\n",
              "    <tr>\n",
              "      <th>4090</th>\n",
              "      <td>CheXpert-v1.0-small/train/patient35924/study2/...</td>\n",
              "      <td>1.0</td>\n",
              "      <td>[0.0, 0.008736494928598404, 0.0097381267696619...</td>\n",
              "    </tr>\n",
              "    <tr>\n",
              "      <th>4091</th>\n",
              "      <td>CheXpert-v1.0-small/train/patient10527/study5/...</td>\n",
              "      <td>1.0</td>\n",
              "      <td>[0.0, 0.011120597831904888, 0.0114790443331003...</td>\n",
              "    </tr>\n",
              "    <tr>\n",
              "      <th>4105</th>\n",
              "      <td>CheXpert-v1.0-small/train/patient19833/study1/...</td>\n",
              "      <td>1.0</td>\n",
              "      <td>[0.0, 0.009945341385900974, 0.0084018278867006...</td>\n",
              "    </tr>\n",
              "  </tbody>\n",
              "</table>\n",
              "<p>91 rows × 3 columns</p>\n",
              "</div>"
            ],
            "text/plain": [
              "                                               filename  ...                                          Embedding\n",
              "6     CheXpert-v1.0-small/train/patient06179/study2/...  ...  [0.0, 0.008590316399931908, 0.0076303747482597...\n",
              "25    CheXpert-v1.0-small/train/patient15810/study17...  ...  [0.0, 0.00958317145705223, 0.00993316154927015...\n",
              "87    CheXpert-v1.0-small/train/patient50077/study1/...  ...  [0.0, 0.0065795197151601315, 0.008377856574952...\n",
              "89    CheXpert-v1.0-small/train/patient09573/study3/...  ...  [0.0, 0.006813548039644957, 0.0079320007935166...\n",
              "257   CheXpert-v1.0-small/train/patient26588/study3/...  ...  [0.0, 0.006036381237208843, 0.0078550139442086...\n",
              "...                                                 ...  ...                                                ...\n",
              "4006  CheXpert-v1.0-small/train/patient38528/study2/...  ...  [0.0, 0.009525722824037075, 0.0109352394938468...\n",
              "4021  CheXpert-v1.0-small/train/patient18874/study1/...  ...  [0.0, 0.008962917141616344, 0.0088569009676575...\n",
              "4090  CheXpert-v1.0-small/train/patient35924/study2/...  ...  [0.0, 0.008736494928598404, 0.0097381267696619...\n",
              "4091  CheXpert-v1.0-small/train/patient10527/study5/...  ...  [0.0, 0.011120597831904888, 0.0114790443331003...\n",
              "4105  CheXpert-v1.0-small/train/patient19833/study1/...  ...  [0.0, 0.009945341385900974, 0.0084018278867006...\n",
              "\n",
              "[91 rows x 3 columns]"
            ]
          },
          "metadata": {
            "tags": []
          },
          "execution_count": 72
        }
      ]
    },
    {
      "cell_type": "code",
      "metadata": {
        "id": "Q2RqcQn07ISL",
        "colab_type": "code",
        "colab": {}
      },
      "source": [
        "final_df = df_covid.append(df_no_covid)"
      ],
      "execution_count": 0,
      "outputs": []
    },
    {
      "cell_type": "code",
      "metadata": {
        "id": "1neWBAhN7O7M",
        "colab_type": "code",
        "colab": {}
      },
      "source": [
        "final_df = final_df.sample(frac=1,random_state = 42)"
      ],
      "execution_count": 0,
      "outputs": []
    },
    {
      "cell_type": "code",
      "metadata": {
        "id": "6_rK8DeVPs-K",
        "colab_type": "code",
        "outputId": "626d9f0d-401f-4095-bbe8-8eb99a250569",
        "colab": {
          "base_uri": "https://localhost:8080/",
          "height": 419
        }
      },
      "source": [
        "final_df"
      ],
      "execution_count": 0,
      "outputs": [
        {
          "output_type": "execute_result",
          "data": {
            "text/html": [
              "<div>\n",
              "<style scoped>\n",
              "    .dataframe tbody tr th:only-of-type {\n",
              "        vertical-align: middle;\n",
              "    }\n",
              "\n",
              "    .dataframe tbody tr th {\n",
              "        vertical-align: top;\n",
              "    }\n",
              "\n",
              "    .dataframe thead th {\n",
              "        text-align: right;\n",
              "    }\n",
              "</style>\n",
              "<table border=\"1\" class=\"dataframe\">\n",
              "  <thead>\n",
              "    <tr style=\"text-align: right;\">\n",
              "      <th></th>\n",
              "      <th>filename</th>\n",
              "      <th>label</th>\n",
              "      <th>Embedding</th>\n",
              "    </tr>\n",
              "  </thead>\n",
              "  <tbody>\n",
              "    <tr>\n",
              "      <th>31</th>\n",
              "      <td>jkms-35-e79-g001-l-a.jpg</td>\n",
              "      <td>COVID-19</td>\n",
              "      <td>[0.0, 0.0056323762983083725, 0.008728952147066...</td>\n",
              "    </tr>\n",
              "    <tr>\n",
              "      <th>65</th>\n",
              "      <td>7AF6C1AF-D249-4BD2-8C26-449304105D03.jpeg</td>\n",
              "      <td>COVID-19</td>\n",
              "      <td>[0.0, 0.007862228900194168, 0.0059073809534311...</td>\n",
              "    </tr>\n",
              "    <tr>\n",
              "      <th>2773</th>\n",
              "      <td>CheXpert-v1.0-small/train/patient21675/study3/...</td>\n",
              "      <td>1</td>\n",
              "      <td>[0.0, 0.009283849969506264, 0.0097440173849463...</td>\n",
              "    </tr>\n",
              "    <tr>\n",
              "      <th>335</th>\n",
              "      <td>CheXpert-v1.0-small/train/patient12968/study1/...</td>\n",
              "      <td>1</td>\n",
              "      <td>[0.0, 0.008658231236040592, 0.0075969817116856...</td>\n",
              "    </tr>\n",
              "    <tr>\n",
              "      <th>2370</th>\n",
              "      <td>CheXpert-v1.0-small/train/patient46669/study1/...</td>\n",
              "      <td>1</td>\n",
              "      <td>[0.0, 0.009121323935687542, 0.0085116503760218...</td>\n",
              "    </tr>\n",
              "    <tr>\n",
              "      <th>...</th>\n",
              "      <td>...</td>\n",
              "      <td>...</td>\n",
              "      <td>...</td>\n",
              "    </tr>\n",
              "    <tr>\n",
              "      <th>520</th>\n",
              "      <td>CheXpert-v1.0-small/train/patient42330/study4/...</td>\n",
              "      <td>1</td>\n",
              "      <td>[0.0, 0.00620920630171895, 0.00839552842080593...</td>\n",
              "    </tr>\n",
              "    <tr>\n",
              "      <th>26</th>\n",
              "      <td>ryct.2020200034.fig2.jpeg</td>\n",
              "      <td>COVID-19</td>\n",
              "      <td>[0.0, 0.004110401961952448, 0.0071432869881391...</td>\n",
              "    </tr>\n",
              "    <tr>\n",
              "      <th>25</th>\n",
              "      <td>CheXpert-v1.0-small/train/patient15810/study17...</td>\n",
              "      <td>1</td>\n",
              "      <td>[0.0, 0.00958317145705223, 0.00993316154927015...</td>\n",
              "    </tr>\n",
              "    <tr>\n",
              "      <th>4090</th>\n",
              "      <td>CheXpert-v1.0-small/train/patient35924/study2/...</td>\n",
              "      <td>1</td>\n",
              "      <td>[0.0, 0.008736494928598404, 0.0097381267696619...</td>\n",
              "    </tr>\n",
              "    <tr>\n",
              "      <th>414</th>\n",
              "      <td>CheXpert-v1.0-small/train/patient28612/study3/...</td>\n",
              "      <td>1</td>\n",
              "      <td>[0.0, 0.005681152921169996, 0.0075206002220511...</td>\n",
              "    </tr>\n",
              "  </tbody>\n",
              "</table>\n",
              "<p>182 rows × 3 columns</p>\n",
              "</div>"
            ],
            "text/plain": [
              "                                               filename  ...                                          Embedding\n",
              "31                             jkms-35-e79-g001-l-a.jpg  ...  [0.0, 0.0056323762983083725, 0.008728952147066...\n",
              "65            7AF6C1AF-D249-4BD2-8C26-449304105D03.jpeg  ...  [0.0, 0.007862228900194168, 0.0059073809534311...\n",
              "2773  CheXpert-v1.0-small/train/patient21675/study3/...  ...  [0.0, 0.009283849969506264, 0.0097440173849463...\n",
              "335   CheXpert-v1.0-small/train/patient12968/study1/...  ...  [0.0, 0.008658231236040592, 0.0075969817116856...\n",
              "2370  CheXpert-v1.0-small/train/patient46669/study1/...  ...  [0.0, 0.009121323935687542, 0.0085116503760218...\n",
              "...                                                 ...  ...                                                ...\n",
              "520   CheXpert-v1.0-small/train/patient42330/study4/...  ...  [0.0, 0.00620920630171895, 0.00839552842080593...\n",
              "26                            ryct.2020200034.fig2.jpeg  ...  [0.0, 0.004110401961952448, 0.0071432869881391...\n",
              "25    CheXpert-v1.0-small/train/patient15810/study17...  ...  [0.0, 0.00958317145705223, 0.00993316154927015...\n",
              "4090  CheXpert-v1.0-small/train/patient35924/study2/...  ...  [0.0, 0.008736494928598404, 0.0097381267696619...\n",
              "414   CheXpert-v1.0-small/train/patient28612/study3/...  ...  [0.0, 0.005681152921169996, 0.0075206002220511...\n",
              "\n",
              "[182 rows x 3 columns]"
            ]
          },
          "metadata": {
            "tags": []
          },
          "execution_count": 75
        }
      ]
    },
    {
      "cell_type": "code",
      "metadata": {
        "id": "TTNSvPPf7snj",
        "colab_type": "code",
        "colab": {}
      },
      "source": [
        "final_df.loc[final_df.label == '1.0','label'] = 0\n",
        "final_df.loc[final_df.label == 'COVID-19','label'] = 1"
      ],
      "execution_count": 0,
      "outputs": []
    },
    {
      "cell_type": "code",
      "metadata": {
        "id": "DNnx0N6l8Gqd",
        "colab_type": "code",
        "colab": {}
      },
      "source": [
        "final_df.to_csv('/content/drive/My Drive/Covid/densenet169_df.csv',index=False)"
      ],
      "execution_count": 0,
      "outputs": []
    },
    {
      "cell_type": "markdown",
      "metadata": {
        "id": "HAY9_9ZF_F2q",
        "colab_type": "text"
      },
      "source": [
        "# Model\n"
      ]
    },
    {
      "cell_type": "code",
      "metadata": {
        "id": "cc_Xr-DN9XpY",
        "colab_type": "code",
        "colab": {}
      },
      "source": [
        "def build_dataset(df):\n",
        "  X = np.array([el for el in df.Embedding.values])\n",
        "  Y = df.label.values\n",
        "  return X,Y"
      ],
      "execution_count": 0,
      "outputs": []
    },
    {
      "cell_type": "code",
      "metadata": {
        "id": "maJqnFljRG15",
        "colab_type": "code",
        "colab": {}
      },
      "source": [
        "def parse(x):\n",
        "  return np.array(x.strip('][').split(', '),dtype=np.float32)\n",
        "  \n",
        "def build_dataset(df):\n",
        "  df['Embedding'] = df['Embedding'].apply(lambda x: parse(x))\n",
        "  values = df['Embedding'].values\n",
        "  X = np.array([el for el in values])\n",
        "  Y = df.label.values\n",
        "  return X, Y"
      ],
      "execution_count": 0,
      "outputs": []
    },
    {
      "cell_type": "code",
      "metadata": {
        "id": "xjLe5zoR_Yrl",
        "colab_type": "code",
        "colab": {}
      },
      "source": [
        "df = pd.read_csv('/content/drive/My Drive/Covid/densenet121_df.csv')"
      ],
      "execution_count": 0,
      "outputs": []
    },
    {
      "cell_type": "code",
      "metadata": {
        "colab_type": "code",
        "id": "t-UrpYkW4VY7",
        "colab": {}
      },
      "source": [
        "X, Y = build_dataset(df)"
      ],
      "execution_count": 0,
      "outputs": []
    },
    {
      "cell_type": "markdown",
      "metadata": {
        "id": "cmpGl4UBB3Zl",
        "colab_type": "text"
      },
      "source": [
        "# Random Forest"
      ]
    },
    {
      "cell_type": "code",
      "metadata": {
        "id": "xWPLoxAGCSh0",
        "colab_type": "code",
        "colab": {}
      },
      "source": [
        "from sklearn.model_selection import KFold\n",
        "from sklearn.ensemble import RandomForestClassifier\n",
        "kf = KFold(n_splits = 10, shuffle = True)\n",
        "rfc = RandomForestClassifier(n_jobs=-1,\n",
        "                             bootstrap= True,max_depth = 30,\n",
        "                             max_features= 'sqrt',\n",
        "                             min_samples_leaf= 1,min_samples_split= 10,n_estimators= 200)"
      ],
      "execution_count": 0,
      "outputs": []
    },
    {
      "cell_type": "code",
      "metadata": {
        "id": "YlX8dw3PGdlr",
        "colab_type": "code",
        "outputId": "44a1b549-60b6-407d-a146-775dae8a9d41",
        "colab": {
          "base_uri": "https://localhost:8080/",
          "height": 1000
        }
      },
      "source": [
        "from sklearn.metrics import confusion_matrix\n",
        "from sklearn.metrics import roc_auc_score\n",
        "\n",
        "import seaborn as sns\n",
        "scores = []\n",
        "auc = []\n",
        "for i in range(10):\n",
        "  result = next(kf.split(X,Y))\n",
        "  train_X = X[result[0]]\n",
        "  train_Y = Y[result[0]]\n",
        "  test_X = X[result[1]]\n",
        "  test_Y = Y[result[1]]\n",
        "  model = rfc.fit(train_X,train_Y)\n",
        "  predictions = model.predict(test_X)\n",
        "  cm = confusion_matrix(test_Y,predictions)\n",
        "  sns.heatmap(cm,annot=True,fmt='d',cmap='Reds',cbar = False,yticklabels=[1,0],xticklabels=[1,0])\n",
        "  plt.ylabel('True label')\n",
        "  plt.xlabel('Predicted label')\n",
        "  plt.show()\n",
        "  \n",
        "  scores.append(model.score(test_X,test_Y))\n",
        "  roc_auc = roc_auc_score(test_Y,predictions)\n",
        "  auc.append(roc_auc)\n",
        "print('Accuracy per Iteration: ', scores)\n",
        "print('Average K-Fold Accuracy :' , np.mean(scores))\n",
        "\n",
        "print('\\n')\n",
        "\n",
        "print('AUC per Iteration: ', auc)\n",
        "print('Average K-Fold AUC :' , np.mean(auc))"
      ],
      "execution_count": 54,
      "outputs": [
        {
          "output_type": "display_data",
          "data": {
            "image/png": "[encoded data removed]",
            "text/plain": [
              "<Figure size 432x288 with 1 Axes>"
            ]
          },
          "metadata": {
            "tags": []
          }
        },
        {
          "output_type": "display_data",
          "data": {
            "image/png": "[encoded data removed]",
            "text/plain": [
              "<Figure size 432x288 with 1 Axes>"
            ]
          },
          "metadata": {
            "tags": []
          }
        },
        {
          "output_type": "display_data",
          "data": {
            "image/png": "[encoded data removed]",
            "text/plain": [
              "<Figure size 432x288 with 1 Axes>"
            ]
          },
          "metadata": {
            "tags": []
          }
        },
        {
          "output_type": "display_data",
          "data": {
            "image/png": "[encoded data removed]",
            "text/plain": [
              "<Figure size 432x288 with 1 Axes>"
            ]
          },
          "metadata": {
            "tags": []
          }
        },
        {
          "output_type": "display_data",
          "data": {
            "image/png": "[encoded data removed]",
            "text/plain": [
              "<Figure size 432x288 with 1 Axes>"
            ]
          },
          "metadata": {
            "tags": []
          }
        },
        {
          "output_type": "display_data",
          "data": {
            "image/png": "[encoded data removed]",
            "text/plain": [
              "<Figure size 432x288 with 1 Axes>"
            ]
          },
          "metadata": {
            "tags": []
          }
        },
        {
          "output_type": "display_data",
          "data": {
            "image/png": "[encoded data removed]",
            "text/plain": [
              "<Figure size 432x288 with 1 Axes>"
            ]
          },
          "metadata": {
            "tags": []
          }
        },
        {
          "output_type": "display_data",
          "data": {
            "image/png": "[encoded data removed]",
            "text/plain": [
              "<Figure size 432x288 with 1 Axes>"
            ]
          },
          "metadata": {
            "tags": []
          }
        },
        {
          "output_type": "display_data",
          "data": {
            "image/png": "[encoded data removed]",
            "text/plain": [
              "<Figure size 432x288 with 1 Axes>"
            ]
          },
          "metadata": {
            "tags": []
          }
        },
        {
          "output_type": "display_data",
          "data": {
            "image/png": "[encoded data removed]",
            "text/plain": [
              "<Figure size 432x288 with 1 Axes>"
            ]
          },
          "metadata": {
            "tags": []
          }
        },
        {
          "output_type": "stream",
          "text": [
            "Accuracy per Iteration:  [1.0, 0.9473684210526315, 0.9473684210526315, 0.9473684210526315, 0.8947368421052632, 0.8947368421052632, 0.9473684210526315, 1.0, 0.9473684210526315, 0.9473684210526315]\n",
            "Average K-Fold Accuracy : 0.9473684210526315\n",
            "\n",
            "\n",
            "AUC per Iteration:  [1.0, 0.9545454545454546, 0.9444444444444444, 0.9583333333333333, 0.8869047619047619, 0.9166666666666667, 0.9583333333333333, 1.0, 0.9444444444444444, 0.9615384615384616]\n",
            "Average K-Fold AUC : 0.9525210900210901\n"
          ],
          "name": "stdout"
        }
      ]
    },
    {
      "cell_type": "markdown",
      "metadata": {
        "id": "TbSo7T1DB83V",
        "colab_type": "text"
      },
      "source": [
        "# XGBoost"
      ]
    },
    {
      "cell_type": "code",
      "metadata": {
        "id": "ZMDgmswG4_0P",
        "colab_type": "code",
        "colab": {}
      },
      "source": [
        "import xgboost as xgb\n",
        "xg = xgb.XGBClassifier(max_depth = 2,n_estimators = 200,n_jobs = -1,learning_rate= 0.05,\n",
        "         subsample= 0.8,\n",
        "         colsample_bytree=1,\n",
        "         gamma=1)"
      ],
      "execution_count": 0,
      "outputs": []
    },
    {
      "cell_type": "code",
      "metadata": {
        "id": "za-jREf354Di",
        "colab_type": "code",
        "colab": {
          "base_uri": "https://localhost:8080/",
          "height": 1000
        },
        "outputId": "71dbafd3-776e-4bbc-82eb-da437e00da4a"
      },
      "source": [
        "from sklearn.metrics import accuracy_score\n",
        "scores = []\n",
        "\n",
        "for i in range(10):\n",
        "  result = next(kf.split(X,Y))\n",
        "  train_X = X[result[0]]\n",
        "  train_Y = Y[result[0]]\n",
        "  test_X = X[result[1]]\n",
        "  test_Y = Y[result[1]]\n",
        "  model = xg.fit(train_X,train_Y)\n",
        "  predictions = model.predict(test_X)\n",
        "  cm = confusion_matrix(test_Y,predictions)\n",
        "  sns.heatmap(cm,annot=True,fmt='d',cmap='Reds',cbar = False,yticklabels=[1,0],xticklabels=[1,0])\n",
        "  plt.ylabel('True label')\n",
        "  plt.xlabel('Predicted label')\n",
        "  plt.show() \n",
        "  scores.append(model.score(test_X,test_Y))\n",
        "  roc_auc = roc_auc_score(test_Y,predictions)\n",
        "  auc.append(roc_auc)\n",
        "  \n",
        "print('Accuracy per Iteration: ', scores)\n",
        "print('Average K-Fold Accuracy :' , np.mean(scores))\n",
        "\n",
        "print('\\n')\n",
        "\n",
        "print('AUC per Iteration: ', auc)\n",
        "print('Average K-Fold AUC :' , np.mean(auc))"
      ],
      "execution_count": 58,
      "outputs": [
        {
          "output_type": "display_data",
          "data": {
            "image/png": "[encoded data removed]",
            "text/plain": [
              "<Figure size 432x288 with 1 Axes>"
            ]
          },
          "metadata": {
            "tags": []
          }
        },
        {
          "output_type": "display_data",
          "data": {
            "image/png": "[encoded data removed]",
            "text/plain": [
              "<Figure size 432x288 with 1 Axes>"
            ]
          },
          "metadata": {
            "tags": []
          }
        },
        {
          "output_type": "display_data",
          "data": {
            "image/png": "[encoded data removed]",
            "text/plain": [
              "<Figure size 432x288 with 1 Axes>"
            ]
          },
          "metadata": {
            "tags": []
          }
        },
        {
          "output_type": "display_data",
          "data": {
            "image/png": "[encoded data removed]",
            "text/plain": [
              "<Figure size 432x288 with 1 Axes>"
            ]
          },
          "metadata": {
            "tags": []
          }
        },
        {
          "output_type": "display_data",
          "data": {
            "image/png": "[encoded data removed]",
            "text/plain": [
              "<Figure size 432x288 with 1 Axes>"
            ]
          },
          "metadata": {
            "tags": []
          }
        },
        {
          "output_type": "display_data",
          "data": {
            "image/png": "[encoded data removed]",
            "text/plain": [
              "<Figure size 432x288 with 1 Axes>"
            ]
          },
          "metadata": {
            "tags": []
          }
        },
        {
          "output_type": "display_data",
          "data": {
            "image/png": "[encoded data removed]",
            "text/plain": [
              "<Figure size 432x288 with 1 Axes>"
            ]
          },
          "metadata": {
            "tags": []
          }
        },
        {
          "output_type": "display_data",
          "data": {
            "image/png": "[encoded data removed]",
            "text/plain": [
              "<Figure size 432x288 with 1 Axes>"
            ]
          },
          "metadata": {
            "tags": []
          }
        },
        {
          "output_type": "display_data",
          "data": {
            "image/png": "[encoded data removed]",
            "text/plain": [
              "<Figure size 432x288 with 1 Axes>"
            ]
          },
          "metadata": {
            "tags": []
          }
        },
        {
          "output_type": "display_data",
          "data": {
            "image/png": "[encoded data removed]",
            "text/plain": [
              "<Figure size 432x288 with 1 Axes>"
            ]
          },
          "metadata": {
            "tags": []
          }
        },
        {
          "output_type": "stream",
          "text": [
            "Accuracy per Iteration:  [0.9473684210526315, 0.9473684210526315, 0.8947368421052632, 0.9473684210526315, 1.0, 0.9473684210526315, 0.9473684210526315, 1.0, 0.9473684210526315, 0.9473684210526315]\n",
            "Average K-Fold Accuracy : 0.9526315789473683\n",
            "\n",
            "\n",
            "AUC per Iteration:  [1.0, 0.9545454545454546, 0.9444444444444444, 0.9583333333333333, 0.8869047619047619, 0.9166666666666667, 0.9583333333333333, 1.0, 0.9444444444444444, 0.9615384615384616, 0.7564102564102564, 0.9500000000000001, 1.0, 0.8944444444444444, 0.9375, 0.9375, 0.8012820512820513, 0.9, 1.0, 1.0, 0.9545454545454545, 0.9545454545454545, 0.875, 0.95, 1.0, 0.9545454545454546, 0.9545454545454545, 1.0, 0.9444444444444444, 0.9444444444444444]\n",
            "Average K-Fold AUC : 0.9411472786472784\n"
          ],
          "name": "stdout"
        }
      ]
    },
    {
      "cell_type": "code",
      "metadata": {
        "id": "gTlbwK9nC6q1",
        "colab_type": "code",
        "colab": {}
      },
      "source": [
        ""
      ],
      "execution_count": 0,
      "outputs": []
    }
  ]
}